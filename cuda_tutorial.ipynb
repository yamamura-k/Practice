{
  "nbformat": 4,
  "nbformat_minor": 0,
  "metadata": {
    "accelerator": "GPU",
    "colab": {
      "name": "cuda_tutorial.ipynb",
      "provenance": [],
      "collapsed_sections": [],
      "authorship_tag": "ABX9TyNe172VSpkYlJPNGs6iJ3f0",
      "include_colab_link": true
    },
    "kernelspec": {
      "display_name": "Python 3",
      "name": "python3"
    }
  },
  "cells": [
    {
      "cell_type": "markdown",
      "metadata": {
        "id": "view-in-github",
        "colab_type": "text"
      },
      "source": [
        "<a href=\"https://colab.research.google.com/github/yamamura-k/Practice/blob/main/cuda_tutorial.ipynb\" target=\"_parent\"><img src=\"https://colab.research.google.com/assets/colab-badge.svg\" alt=\"Open In Colab\"/></a>"
      ]
    },
    {
      "cell_type": "markdown",
      "metadata": {
        "id": "7II84nBgjNn5"
      },
      "source": [
        "# Colaboratry / Kaggle kernel で自作Cudaプログラムを動かそう！！"
      ]
    },
    {
      "cell_type": "markdown",
      "metadata": {
        "id": "Iatl5qhLjZbh"
      },
      "source": [
        "## リポジトリをクローン\n",
        "リポジトリの中身を更新したら`git pull`するのがいいのか、既存フォルダを消して再度`git clone`するのがいいのか、どっちなんでしょう？知ってる人いたら教えて...\\\n",
        "コマンドの前に`!`をつけるとコマンドラインへの入力になります。"
      ]
    },
    {
      "cell_type": "code",
      "metadata": {
        "colab": {
          "base_uri": "https://localhost:8080/"
        },
        "id": "B4eMapu3You1",
        "outputId": "1d33872f-e981-4529-f2e1-839a39747f46"
      },
      "source": [
        "! git clone https://github.com/yamamura-k/Practice.git"
      ],
      "execution_count": 28,
      "outputs": [
        {
          "output_type": "stream",
          "text": [
            "Cloning into 'Practice'...\n",
            "remote: Enumerating objects: 47, done.\u001b[K\n",
            "remote: Counting objects: 100% (47/47), done.\u001b[K\n",
            "remote: Compressing objects: 100% (40/40), done.\u001b[K\n",
            "remote: Total 47 (delta 8), reused 41 (delta 7), pack-reused 0\u001b[K\n",
            "Unpacking objects: 100% (47/47), done.\n"
          ],
          "name": "stdout"
        }
      ]
    },
    {
      "cell_type": "markdown",
      "metadata": {
        "id": "JFn2Ob6Fjgv6"
      },
      "source": [
        "## ソースコードのコンパイル\n",
        "+ cudaで書かれたコードの拡張子は`.cu`、コンパイルには`nvcc`を使います。\n",
        "+ 実行ファイルの名前指定は`-o`オプションで行えます。(c / c++と同じですね)\n",
        "+ その他のコンパイルオプションについては調べたら追記することにします。"
      ]
    },
    {
      "cell_type": "code",
      "metadata": {
        "id": "ClHLUklHhs0P"
      },
      "source": [
        "! nvcc ./Practice/cuda_tutorial1/helloworld.cu -o helloworld"
      ],
      "execution_count": 29,
      "outputs": []
    },
    {
      "cell_type": "code",
      "metadata": {
        "id": "cYUJi-6iiUrt"
      },
      "source": [
        "! nvcc ./Practice/cuda_tutorial1/add_vector_without_parallization.cu -o add_vector_without_parallization"
      ],
      "execution_count": 30,
      "outputs": []
    },
    {
      "cell_type": "markdown",
      "metadata": {
        "id": "1Q1tIYP3jmtp"
      },
      "source": [
        "## 実行"
      ]
    },
    {
      "cell_type": "code",
      "metadata": {
        "id": "uHG10HdqY15a"
      },
      "source": [
        "! ./helloworld"
      ],
      "execution_count": 34,
      "outputs": []
    },
    {
      "cell_type": "code",
      "metadata": {
        "colab": {
          "base_uri": "https://localhost:8080/"
        },
        "id": "dUVMKgKhiiC6",
        "outputId": "40bfdae1-5e86-4458-80db-4cae0d4dc4fc"
      },
      "source": [
        "! ./add_vector_without_parallization"
      ],
      "execution_count": 35,
      "outputs": [
        {
          "output_type": "stream",
          "text": [
            "This program computes sum of 10 dimensional vectors.\n",
            "All variables are written in source code.\n",
            "result: 6  6.1  6.2  6.3  6.4  6.5  6.6  6.7  6.8  6.9  \n",
            "vector1: 0  1.1  2.2  3.3  4.4  5.5  6.6  7.7  8.8  9.9  \n",
            "vector2: 6  5  4  3  2  1  0  -1  -2  -3  \n"
          ],
          "name": "stdout"
        }
      ]
    }
  ]
}