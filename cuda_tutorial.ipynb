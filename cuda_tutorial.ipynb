{
  "nbformat": 4,
  "nbformat_minor": 0,
  "metadata": {
    "accelerator": "GPU",
    "colab": {
      "name": "cuda_tutorial.ipynb",
      "provenance": [],
      "collapsed_sections": [],
      "authorship_tag": "ABX9TyMWrHeXJmYdsXKispDhZYNQ",
      "include_colab_link": true
    },
    "kernelspec": {
      "display_name": "Python 3",
      "name": "python3"
    }
  },
  "cells": [
    {
      "cell_type": "markdown",
      "metadata": {
        "id": "view-in-github",
        "colab_type": "text"
      },
      "source": [
        "<a href=\"https://colab.research.google.com/github/yamamura-k/Practice/blob/cuda_tutorial/cuda_tutorial.ipynb\" target=\"_parent\"><img src=\"https://colab.research.google.com/assets/colab-badge.svg\" alt=\"Open In Colab\"/></a>"
      ]
    },
    {
      "cell_type": "markdown",
      "metadata": {
        "id": "7II84nBgjNn5"
      },
      "source": [
        "# Colaboratry / Kaggle kernel で自作Cudaプログラムを動かそう！！"
      ]
    },
    {
      "cell_type": "markdown",
      "metadata": {
        "id": "Iatl5qhLjZbh"
      },
      "source": [
        "## リポジトリをクローン\n",
        "リポジトリの中身を更新したら`git pull`するのがいいのか、既存フォルダを消して再度`git clone`するのがいいのか、どっちなんでしょう？知ってる人いたら教えて...\\\n",
        "コマンドの前に`!`をつけるとコマンドラインへの入力になります。"
      ]
    },
    {
      "cell_type": "code",
      "metadata": {
        "colab": {
          "base_uri": "https://localhost:8080/"
        },
        "id": "B4eMapu3You1",
        "outputId": "ca5850da-8878-494d-c9e2-7004d6aca410"
      },
      "source": [
        "! git clone https://github.com/yamamura-k/Practice.git\n",
        "! cd ./Practice; git checkout cuda_tutorial"
      ],
      "execution_count": 1,
      "outputs": [
        {
          "output_type": "stream",
          "text": [
            "Cloning into 'Practice'...\n",
            "remote: Enumerating objects: 71, done.\u001b[K\n",
            "remote: Counting objects: 100% (71/71), done.\u001b[K\n",
            "remote: Compressing objects: 100% (62/62), done.\u001b[K\n",
            "remote: Total 71 (delta 16), reused 48 (delta 9), pack-reused 0\u001b[K\n",
            "Unpacking objects: 100% (71/71), done.\n",
            "Branch 'cuda_tutorial' set up to track remote branch 'cuda_tutorial' from 'origin'.\n",
            "Switched to a new branch 'cuda_tutorial'\n"
          ],
          "name": "stdout"
        }
      ]
    },
    {
      "cell_type": "markdown",
      "metadata": {
        "id": "JFn2Ob6Fjgv6"
      },
      "source": [
        "## ソースコードのコンパイル\n",
        "+ cudaで書かれたコードの拡張子は`.cu`、コンパイルには`nvcc`を使います。\n",
        "+ 実行ファイルの名前指定は`-o`オプションで行えます。(c / c++と同じですね)\n",
        "+ その他のコンパイルオプションについては調べたら追記することにします。"
      ]
    },
    {
      "cell_type": "code",
      "metadata": {
        "id": "ClHLUklHhs0P"
      },
      "source": [
        "! nvcc ./Practice/cuda_tutorial1/helloworld.cu -o helloworld"
      ],
      "execution_count": 3,
      "outputs": []
    },
    {
      "cell_type": "code",
      "metadata": {
        "id": "cYUJi-6iiUrt"
      },
      "source": [
        "! nvcc ./Practice/cuda_tutorial1/add_vector_without_parallization.cu -o add_vector_without_parallization"
      ],
      "execution_count": 4,
      "outputs": []
    },
    {
      "cell_type": "code",
      "metadata": {
        "id": "d98ow8t6xzD5"
      },
      "source": [
        "! nvcc ./Practice/cuda_tutorial2/add_vector_parallel.cu -o add_vector_parallel"
      ],
      "execution_count": 5,
      "outputs": []
    },
    {
      "cell_type": "markdown",
      "metadata": {
        "id": "1Q1tIYP3jmtp"
      },
      "source": [
        "## 実行"
      ]
    },
    {
      "cell_type": "code",
      "metadata": {
        "id": "uHG10HdqY15a"
      },
      "source": [
        "! ./helloworld"
      ],
      "execution_count": 6,
      "outputs": []
    },
    {
      "cell_type": "code",
      "metadata": {
        "colab": {
          "base_uri": "https://localhost:8080/"
        },
        "id": "dUVMKgKhiiC6",
        "outputId": "0e99526a-e387-4007-eb6c-5346b5414e34"
      },
      "source": [
        "! ./add_vector_without_parallization"
      ],
      "execution_count": 7,
      "outputs": [
        {
          "output_type": "stream",
          "text": [
            "This program computes sum of 10 dimensional vectors.\n",
            "All variables are written in source code.\n",
            "result: 6  6.1  6.2  6.3  6.4  6.5  6.6  6.7  6.8  6.9  \n",
            "vector1: 0  1.1  2.2  3.3  4.4  5.5  6.6  7.7  8.8  9.9  \n",
            "vector2: 6  5  4  3  2  1  0  -1  -2  -3  \n"
          ],
          "name": "stdout"
        }
      ]
    },
    {
      "cell_type": "code",
      "metadata": {
        "colab": {
          "base_uri": "https://localhost:8080/"
        },
        "id": "9G7L8agMx6gm",
        "outputId": "60a27726-1cee-4d2a-ff08-a783ee762700"
      },
      "source": [
        "! ./add_vector_parallel"
      ],
      "execution_count": 8,
      "outputs": [
        {
          "output_type": "stream",
          "text": [
            "This program computes sum of 10 dimensional vectors.\n",
            "All variables are written in source code.\n",
            "result: 6  6.1  6.2  6.3  6.4  6.5  6.6  6.7  6.8  6.9  \n",
            "vector1: 0  1.1  2.2  3.3  4.4  5.5  6.6  7.7  8.8  9.9  \n",
            "vector2: 6  5  4  3  2  1  0  -1  -2  -3  \n"
          ],
          "name": "stdout"
        }
      ]
    },
    {
      "cell_type": "markdown",
      "metadata": {
        "id": "9kbr6zG7yBXp"
      },
      "source": [
        "## 計測"
      ]
    },
    {
      "cell_type": "code",
      "metadata": {
        "colab": {
          "base_uri": "https://localhost:8080/"
        },
        "id": "z_WtcmJ0x_M5",
        "outputId": "2eee9d2d-edfa-438b-f723-38b4f1f4212d"
      },
      "source": [
        "! time ./add_vector_without_parallization"
      ],
      "execution_count": 12,
      "outputs": [
        {
          "output_type": "stream",
          "text": [
            "This program computes sum of 10 dimensional vectors.\n",
            "All variables are written in source code.\n",
            "result: 6  6.1  6.2  6.3  6.4  6.5  6.6  6.7  6.8  6.9  \n",
            "vector1: 0  1.1  2.2  3.3  4.4  5.5  6.6  7.7  8.8  9.9  \n",
            "vector2: 6  5  4  3  2  1  0  -1  -2  -3  \n",
            "\n",
            "real\t0m0.172s\n",
            "user\t0m0.017s\n",
            "sys\t0m0.139s\n"
          ],
          "name": "stdout"
        }
      ]
    },
    {
      "cell_type": "code",
      "metadata": {
        "colab": {
          "base_uri": "https://localhost:8080/"
        },
        "id": "R865MEcdyH2m",
        "outputId": "17e04d70-3283-4579-dfbf-1c20b1bbc515"
      },
      "source": [
        "! time ./add_vector_parallel"
      ],
      "execution_count": 11,
      "outputs": [
        {
          "output_type": "stream",
          "text": [
            "This program computes sum of 10 dimensional vectors.\n",
            "All variables are written in source code.\n",
            "result: 6  6.1  6.2  6.3  6.4  6.5  6.6  6.7  6.8  6.9  \n",
            "vector1: 0  1.1  2.2  3.3  4.4  5.5  6.6  7.7  8.8  9.9  \n",
            "vector2: 6  5  4  3  2  1  0  -1  -2  -3  \n",
            "\n",
            "real\t0m0.181s\n",
            "user\t0m0.016s\n",
            "sys\t0m0.141s\n"
          ],
          "name": "stdout"
        }
      ]
    },
    {
      "cell_type": "code",
      "metadata": {
        "id": "ubQIkqN8yK3O"
      },
      "source": [
        ""
      ],
      "execution_count": null,
      "outputs": []
    }
  ]
}